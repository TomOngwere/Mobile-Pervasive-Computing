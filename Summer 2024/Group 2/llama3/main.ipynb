{
 "cells": [
  {
   "cell_type": "code",
   "execution_count": 2,
   "id": "6457485d-3155-4ae9-930d-88d1485f7b80",
   "metadata": {},
   "outputs": [],
   "source": [
    "import TextExtractionScript\n",
    "import llamaCall\n",
    "\n",
    "# import mysqlCall\n",
    "\n",
    "import mongoCall\n",
    "import re\n",
    "import json"
   ]
  },
  {
   "cell_type": "code",
   "execution_count": 32,
   "id": "32f8d7ca-f502-44fa-b015-7b27fbf4aaac",
   "metadata": {},
   "outputs": [],
   "source": [
    "text = TextExtractionScript.getText()\n",
    "resultText = llamaCall.callLlama3(\n",
    "    text\n",
    "    # + \"; suggest some complications that can happen in bullet points\"\n",
    "    + \"; format the given text into a json format do not ignore any information; do not make up any information that isn't included in the document; do not use any special characters in the entire json; if you encounter blood pressure store it as separate key values(systolic and diastolic); if you encounter any + or - store it as a boolean value with key 'positive'; \"\n",
    "    # + \"\"\"; extract vital paramters from the text, write me an sql query to insert data into mysql table named patient_data with schema\n",
    "    #         +-----------------+-------------+------+-----+---------+-------+\n",
    "    #         | Field           | Type        | Null | Key | Default | Extra |\n",
    "    #         +-----------------+-------------+------+-----+---------+-------+\n",
    "    #         | name            | varchar(50) | YES  |     | NULL    |       |\n",
    "    #         | dob             | date        | YES  |     | NULL    |       |\n",
    "    #         | account_number  | int         | YES  |     | NULL    |       |\n",
    "    #         | temp            | float       | YES  |     | NULL    |       |\n",
    "    #         | hr              | int         | YES  |     | NULL    |       |\n",
    "    #         | bp              | float       | YES  |     | NULL    |       |\n",
    "    #         | wt              | float       | YES  |     | NULL    |       |\n",
    "    #         | ht              | float       | YES  |     | NULL    |       |\n",
    "    #         | bmi             | float       | YES  |     | NULL    |       |\n",
    "    #         | medical_history | text        | YES  |     | NULL    |       |\n",
    "    #         +-----------------+-------------+------+-----+---------+-------+\n",
    "    # \"\"\"\n",
    ")"
   ]
  },
  {
   "cell_type": "code",
   "execution_count": 34,
   "id": "27d346f6",
   "metadata": {},
   "outputs": [
    {
     "data": {
      "text/plain": [
       "'Here is the formatted JSON data:\\n\\n```\\n{\\n    \"patient\": {\\n        \"name\": \"Test, Hayley\",\\n        \"dob\": \"1991-11-07\",\\n        \"accountNumber\": \"17530\"\\n    },\\n    \"guarantor\": {\\n        \"name\": \"Test, Hayley\"\\n    },\\n    \"pcp\": {\\n        \"name\": \"Jennifer M Dyer\"\\n    },\\n    \"appointmentFacility\": {\\n        \"name\": \"Dayton Internal Medicine Clinic Ine\"\\n    },\\n    \"reasonForAppointment\": [\\n        \"Fever\",\\n        \"Cough\"\\n    ],\\n    \"summaryView\": {\\n        \"patient\": \"Hayley Test\"\\n    },\\n    \"historyOfPresentIllness\": [\\n        \"Constitutional: Fatigue all day.\",\\n        \"Night sweats new onset. Fever for 2-3 days with chills, low grade.\"\\n    ],\\n    \"interimHistory\": [\\n        \"Was hospitalized with a diagnosis of pneumonia.\"\\n    ],\\n    \"vitalSigns\": {\\n        \"temperature\": 101.1,\\n        \"heartRate\": 112,\\n        \"bloodPressure\": {\\n            \"systolic\": 143,\\n            \"diastolic\": 82\\n        },\\n        \"weight\": 186,\\n        \"height\": 175.26,\\n        \"bodyMassIndex\": 27.46,\\n        \"respiratoryRate\": 18,\\n        \"oxygenSaturation\": 92,\\n        \"heightCm\": 175.26,\\n        \"weightKg\": 84.37\\n    },\\n    \"examination\": {\\n        \"generalExamination\": {\\n            \"temp\": 101.1,\\n            \"hr\": 112,\\n            \"bp\": [143, 82],\\n            \"wt\": 186,\\n            \"ht\": 175.26,\\n            \"rr\": 18,\\n            \"oxygenSaturation\": 92\\n        },\\n        \"head\": {\\n            \"normocephalic\": true\\n        },\\n        \"generalAppearance\": {\\n            \"alert\": true,\\n            \"mildDistress\": true\\n        },\\n        \"eyes\": {\\n            \"normal\": true\\n        },\\n        \"ears\": {\\n            \"normal\": true\\n        },\\n        \"nose\": {\\n            \"naresPatent\": true\\n        },\\n        \"oralCavity\": {\\n            \"tongueInMidline\": true,\\n            \"gumsNormal\": true,\\n            \"missingTeeth\": true\\n        },\\n        \"throat\": {\\n            \"tonsilsRedSwollen\": true\\n        },\\n        \"skin\": {\\n            \"normal\": true\\n        },\\n        \"neckThyroid\": {\\n            \"noThyromegaly\": true,\\n            \"tracheaMidline\": true\\n        },\\n        \"lymphNodes\": {\\n            \"noCervicalAdenopathy\": true\\n        },\\n        \"chest\": {\\n            \"normal\": true\\n        },\\n        \"breasts\": {\\n            \"notExamined\": true\\n        },\\n        \"heart\": {\\n            \"tachycardia\": true,\\n            \"systolicEjectionMurmur\": true,\\n            \"pericardialFrictionRub\": true\\n        },\\n        \"lungs\": {\\n            \"goodAirMovement\": true,\\n            \"noWheezesRalesRhonchi\": true\\n        },\\n        \"abdomen\": {\\n            \"normal\": true\\n        },\\n        \"rectal\": {\\n            \"notExamined\": true\\n        },\\n        \"back\": {\\n            \"normal\": true\\n        },\\n        \"extremities\": {\\n            \"noEdema\": true\\n        }\\n    },\\n    \"medications\": [\\n        {\\n            \"name\": \"Atenolol\",\\n            \"dosage\": 25,\\n            \"form\": \"tablet\",\\n            \"frequency\": \"Once a day\"\\n        }\\n    ],\\n    \"allergies\": [\\n        {\\n            \"name\": \"Sulfacetamide Sodium\",\\n            \"status\": true\\n        }\\n    ],\\n    \"socialHistory\": {\\n        \"tobaccoUse\": {\\n            \"currentSmoker\": true,\\n            \"howOftenDoYouSmokeCigarettes\": \"every\",\\n            \"howManyCigarettesADay\": 6,\\n            \"howSoonAfterYouWakeUpDoYouSmokeYourFirstCigarette\": \"after 60 minutes\",\\n            \"interestedInQuitting\": true\\n        },\\n        \"drugsAlcohol\": {\\n            \"drugsUsedForMedicalReasons\": true,\\n            \"heroinUse\": true,\\n            \"alcoholScreen\": {\\n                \"hadADrinkContainingAlcoholInThePastYear\": true,\\n                \"howOftenDidYouHaveADrinkContainingAlcoholInThePastYear\": 2,\\n                \"howManyDrinksDidYouHaveOnATypicalDayWhenYouWereDrinkingInThePastYear\": 1,\\n                \"results\": \"true\"\\n            }\\n        }\\n    },\\n    \"dayOneNCERNALedicineSpread\": {\\n        \"name\": \"NCERNALedicine-Spread\"\\n    }\\n}\\n```\\n\\nNote: The JSON data may not be exactly as it was originally, as some formatting changes were made to make it more readable.'"
      ]
     },
     "execution_count": 34,
     "metadata": {},
     "output_type": "execute_result"
    }
   ],
   "source": [
    "resultText"
   ]
  },
  {
   "cell_type": "code",
   "execution_count": 35,
   "id": "c7161f0a-eb83-400d-a882-d715b6166ba2",
   "metadata": {},
   "outputs": [],
   "source": [
    "def extract_and_clean_text(text):\n",
    "    # Regular expression to find text enclosed in triple backticks\n",
    "    backtick_regex = r\"```(.*?)```\"\n",
    "    code_blocks = re.findall(backtick_regex, text, re.DOTALL)\n",
    "\n",
    "    code_blocks = re.sub(r'\\n',r'',code_blocks[0])\n",
    "\n",
    "    return code_blocks"
   ]
  },
  {
   "cell_type": "code",
   "execution_count": 36,
   "id": "7cf91185",
   "metadata": {},
   "outputs": [],
   "source": [
    "finalQueryString = extract_and_clean_text(resultText)"
   ]
  },
  {
   "cell_type": "code",
   "execution_count": 38,
   "id": "35e23b80",
   "metadata": {},
   "outputs": [
    {
     "data": {
      "text/plain": [
       "'{    \"patient\": {        \"name\": \"Test, Hayley\",        \"dob\": \"1991-11-07\",        \"accountNumber\": \"17530\"    },    \"guarantor\": {        \"name\": \"Test, Hayley\"    },    \"pcp\": {        \"name\": \"Jennifer M Dyer\"    },    \"appointmentFacility\": {        \"name\": \"Dayton Internal Medicine Clinic Ine\"    },    \"reasonForAppointment\": [        \"Fever\",        \"Cough\"    ],    \"summaryView\": {        \"patient\": \"Hayley Test\"    },    \"historyOfPresentIllness\": [        \"Constitutional: Fatigue all day.\",        \"Night sweats new onset. Fever for 2-3 days with chills, low grade.\"    ],    \"interimHistory\": [        \"Was hospitalized with a diagnosis of pneumonia.\"    ],    \"vitalSigns\": {        \"temperature\": 101.1,        \"heartRate\": 112,        \"bloodPressure\": {            \"systolic\": 143,            \"diastolic\": 82        },        \"weight\": 186,        \"height\": 175.26,        \"bodyMassIndex\": 27.46,        \"respiratoryRate\": 18,        \"oxygenSaturation\": 92,        \"heightCm\": 175.26,        \"weightKg\": 84.37    },    \"examination\": {        \"generalExamination\": {            \"temp\": 101.1,            \"hr\": 112,            \"bp\": [143, 82],            \"wt\": 186,            \"ht\": 175.26,            \"rr\": 18,            \"oxygenSaturation\": 92        },        \"head\": {            \"normocephalic\": true        },        \"generalAppearance\": {            \"alert\": true,            \"mildDistress\": true        },        \"eyes\": {            \"normal\": true        },        \"ears\": {            \"normal\": true        },        \"nose\": {            \"naresPatent\": true        },        \"oralCavity\": {            \"tongueInMidline\": true,            \"gumsNormal\": true,            \"missingTeeth\": true        },        \"throat\": {            \"tonsilsRedSwollen\": true        },        \"skin\": {            \"normal\": true        },        \"neckThyroid\": {            \"noThyromegaly\": true,            \"tracheaMidline\": true        },        \"lymphNodes\": {            \"noCervicalAdenopathy\": true        },        \"chest\": {            \"normal\": true        },        \"breasts\": {            \"notExamined\": true        },        \"heart\": {            \"tachycardia\": true,            \"systolicEjectionMurmur\": true,            \"pericardialFrictionRub\": true        },        \"lungs\": {            \"goodAirMovement\": true,            \"noWheezesRalesRhonchi\": true        },        \"abdomen\": {            \"normal\": true        },        \"rectal\": {            \"notExamined\": true        },        \"back\": {            \"normal\": true        },        \"extremities\": {            \"noEdema\": true        }    },    \"medications\": [        {            \"name\": \"Atenolol\",            \"dosage\": 25,            \"form\": \"tablet\",            \"frequency\": \"Once a day\"        }    ],    \"allergies\": [        {            \"name\": \"Sulfacetamide Sodium\",            \"status\": true        }    ],    \"socialHistory\": {        \"tobaccoUse\": {            \"currentSmoker\": true,            \"howOftenDoYouSmokeCigarettes\": \"every\",            \"howManyCigarettesADay\": 6,            \"howSoonAfterYouWakeUpDoYouSmokeYourFirstCigarette\": \"after 60 minutes\",            \"interestedInQuitting\": true        },        \"drugsAlcohol\": {            \"drugsUsedForMedicalReasons\": true,            \"heroinUse\": true,            \"alcoholScreen\": {                \"hadADrinkContainingAlcoholInThePastYear\": true,                \"howOftenDidYouHaveADrinkContainingAlcoholInThePastYear\": 2,                \"howManyDrinksDidYouHaveOnATypicalDayWhenYouWereDrinkingInThePastYear\": 1,                \"results\": \"true\"            }        }    },    \"dayOneNCERNALedicineSpread\": {        \"name\": \"NCERNALedicine-Spread\"    }}'"
      ]
     },
     "execution_count": 38,
     "metadata": {},
     "output_type": "execute_result"
    }
   ],
   "source": [
    "finalQueryString"
   ]
  },
  {
   "cell_type": "code",
   "execution_count": 39,
   "id": "6b306546",
   "metadata": {},
   "outputs": [
    {
     "name": "stdout",
     "output_type": "stream",
     "text": [
      "Pinged your deployment. You successfully connected to MongoDB!\n"
     ]
    }
   ],
   "source": [
    "client = mongoCall.mongoCall()\n",
    "#mongoCall.mongoInsertMany(client[\"mpc\"], finalQueryString)"
   ]
  },
  {
   "cell_type": "code",
   "execution_count": 31,
   "id": "89595000",
   "metadata": {},
   "outputs": [
    {
     "data": {
      "text/plain": [
       "' \"peripheral_pulses\": {\"dorsalis_pedis\": 2+},    \"neurologic\": [\"nonfocal\"],    '"
      ]
     },
     "execution_count": 31,
     "metadata": {},
     "output_type": "execute_result"
    }
   ],
   "source": [
    "finalQueryString[2420:2500]"
   ]
  },
  {
   "cell_type": "code",
   "execution_count": 42,
   "id": "364011f0",
   "metadata": {},
   "outputs": [],
   "source": [
    "finalQueryString=json.loads(finalQueryString)"
   ]
  },
  {
   "cell_type": "code",
   "execution_count": 43,
   "id": "60f62248-0f2a-41c3-9b76-a4dadb0926a6",
   "metadata": {},
   "outputs": [
    {
     "data": {
      "text/plain": [
       "InsertOneResult(ObjectId('66ce76d36b11a38ff987546a'), acknowledged=True)"
      ]
     },
     "execution_count": 43,
     "metadata": {},
     "output_type": "execute_result"
    }
   ],
   "source": [
    "mongoCall.mongoInsert(client[\"mpc\"],finalQueryString)"
   ]
  }
 ],
 "metadata": {
  "kernelspec": {
   "display_name": "Python 3 (ipykernel)",
   "language": "python",
   "name": "python3"
  },
  "language_info": {
   "codemirror_mode": {
    "name": "ipython",
    "version": 3
   },
   "file_extension": ".py",
   "mimetype": "text/x-python",
   "name": "python",
   "nbconvert_exporter": "python",
   "pygments_lexer": "ipython3",
   "version": "3.11.8"
  }
 },
 "nbformat": 4,
 "nbformat_minor": 5
}
